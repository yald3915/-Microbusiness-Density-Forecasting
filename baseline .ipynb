{
 "cells": [
  {
   "cell_type": "markdown",
   "id": "7a1ed6e1-1f85-4b00-80d5-b17d5a028019",
   "metadata": {},
   "source": [
    "<center><h1><a href=\"https://www.kaggle.com/competitions/godaddy-microbusiness-density-forecasting/\">GoDaddy - Microbusiness Density Forecasting</a></h1></center>\n",
    "<center><font size=\"5\">Forecast Next Month’s Microbusiness Density</font></center>\n",
    "\n",
    "## 赛题背景\n",
    "\n",
    "美国政府意识到技术的进步会增加创业机会，无论是为了创造更合适的工作/生活平衡、追随激情，还是由于失业等原因。研究表明，美国人越来越多地选择创建自己的企业来实现其财务目标。**挑战在于，这些“微型企业”通常太小或太新，无法出现在传统的经济数据来源中，这使得决策者几乎不可能研究它们。但数据科学可以帮助填补空白，并提供对与这些业务相关的因素的见解。**\n",
    "\n",
    "大赛主办方GoDaddy是全球最大的面向全球创业者的服务平台。他们的使命是通过为他们提供在线发展所需的所有帮助和工具，为他们的全球 20 多万客户和世界各地的企业家社区赋能。在过去的几年中，GoDaddy 的 Venture Forward 团队一直致力于生成有关美国数千万微型企业的数据资产。微型企业通常被定义为拥有在线业务且员工人数不超过 10 人的企业。 GoDaddy 可以了解其中超过 2000 万个，由超过 1000 万企业家拥有。多年来，我们对微型企业所有者进行了调查，并收集了大量关于他们的信息，您可以通过此处的调查数据访问这些信息。\n",
    "\n",
    "当前模型利用内部和人口普查数据，使用计量经济学方法，并专注于理解主要决定因素。虽然这些方法足够了，但仍有可能包含更多数据并使用更先进的方法来改进预测并更好地为决策提供信息。您的工作将有助于更好地为政策制定者提供信息，因为他们正在努力让世界成为一个对微型企业企业家来说更美好的地方。这将对全国各地的社区产生真正和实质性的影响，并将帮助我们更广泛的经济适应不断变化的世界。\n",
    "\n",
    "## 赛题任务\n",
    "\n",
    "本次比赛的目标是预测给定地区每月的微型企业密度。您将开发一个根据美国县级数据训练的准确模型。\n",
    "\n",
    "您的工作将帮助政策制定者了解微型企业，这是一种非常小的实体的增长趋势。更多信息将使新的政策和计划能够提高这些最小企业的成功和影响。\n",
    "\n",
    "## 评价指标\n",
    "\n",
    "提交的内容在 [SMAPE](https://en.wikipedia.org/wiki/Symmetric_mean_absolute_percentage_error) 上根据预测值和实际值进行评估。当实际值和预测值都为 0 时，我们定义 SMAPE = 0\n",
    "\n",
    "$$\n",
    "\\text { SMAPE }=\\frac{100 \\%}{n} \\sum_{t=1}^n \\frac{\\left|F_t-A_t\\right|}{\\left(\\left|A_t\\right|+\\left|F_t\\right|\\right) / 2}\n",
    "$$\n",
    "\n",
    "对于每个 row_id，您必须预测 microbusiness_density。该文件应包含标题并具有以下格式：\n",
    "\n",
    "```\n",
    "row_id,microbusiness_density\n",
    "1001_2022-11-01,1.2\n",
    "1002_2022-11-01,2.3\n",
    "1003_2022-11-01,3.4\n",
    "etc.\n",
    "```\n",
    "\n",
    "**提交文件将在整个比赛期间保持不变。但是，主动评分的日期将随着新数据的可用而更新。在比赛的活跃阶段，只有最近一个月的数据才会用于公共排行榜。**\n",
    "\n",
    "## 赛题日程\n",
    "\n",
    "- 2022 年 12 月 15 日 - 开始日期。\n",
    "- 2023 年 3 月 7 日 - 报名截止日期。您必须在此日期之前接受比赛规则才能参加比赛。\n",
    "- 2023 年 3 月 7 日 - 团队合并截止日期。这是参与者可以加入或合并团队的最后一天。\n",
    "- 2023 年 3 月 14 日 - 最终提交截止日期。\n",
    "- 2023 年 6 月 14 日 - 比赛结束日期 - 获胜者公告。\n",
    "\n",
    "预测时间表：从最终提交截止日期之后开始，排行榜将定期更新，因为新数据可用于包含在解决方案文件中。更新将每月进行一次。\n",
    "\n",
    "\n",
    "## 数据介绍\n",
    "\n",
    "由于历史经济数据随处可见，因此这是一场预测竞赛。预测阶段的公共排行榜和最终的私人排行榜将使用提交期结束后收集的数据来确定。您将进行静态预测，这些预测只能包含提交期结束前可用的信息。这意味着虽然我们将在预测期间对提交的内容重新评分，但我们不会重新运行任何笔记本。**关于县（counties）的大量数据是公开的，我们没有试图在这里收集所有数据。强烈建议您为功能使用外部数据源。**\n",
    "\n",
    "---\n",
    "\n",
    "- `train.csv`\n",
    "    -   `row_id` - An ID code for the row.\n",
    "    -   `cfips` - A unique identifier for each county using the  Federal Information Processing System. The first two digits correspond  to the state FIPS code, while the following 3 represent the county.\n",
    "    -   `county_name` - The written name of the county.\n",
    "    -   `state_name` - The name of the state.\n",
    "    -   `first_day_of_month` - The date of the first day of the month.\n",
    "    -   `microbusiness_density` - Microbusinesses per 100 people  over the age of 18 in the given county. This is the target variable. The population figures used to calculate the density are on a two-year lag  due to the pace of update provided by the U.S. Census Bureau, which  provides the underlying population data annually. 2021 density figures  are calculated using 2019 population figures, etc.\n",
    "    -   `active` - The raw count of microbusinesses in the county. Not provided for the test set.\n",
    "\n",
    "---\n",
    "\n",
    "- `test.csv`：Metadata for the submission rows. This file will remain unchanged throughout the competition.\n",
    "    -   `row_id` - An ID code for the row.\n",
    "    -   `cfips` - A unique identifier for each county using the  Federal Information Processing System. The first two digits correspond  to the state FIPS code, while the following 3 represent the county.\n",
    "    -   `first_day_of_month` - The date of the first day of the month.\n",
    "\n",
    "---\n",
    "\n",
    "- `revealed_test.csv`: During the submission period, only the most recent month of data will be used for the public leaderboard.  Any test set data older than that will be published in **revealed_test.csv**, closely following the usual data release cycle for the microbusiness report. We expect to publish one copy of **revealed_test.csv** in mid February. This file's schema will match **train.csv**.\n",
    "\n",
    "---\n",
    "\n",
    "- `census_starter.csv`: Examples of useful columns from the Census Bureau's American Community Survey (ACS) at [data.census.gov](https://data.census.gov/). The percentage fields were derived from the raw counts provided by the  ACS. All fields have a two year lag to match what information was  avaiable at the time a given microbusiness data update was published.\n",
    "    -   `pct_bb_[year]` - The percentage of households in the  county with access to broadband of any type. Derived from ACS table  B28002: PRESENCE AND TYPES OF INTERNET SUBSCRIPTIONS IN HOUSEHOLD.\n",
    "    -   `cfips` - The CFIPS code.\n",
    "    -   `pct_college_[year]` - The percent of the population in  the county over age 25 with a 4-year college degree. Derived from ACS  table S1501: EDUCATIONAL ATTAINMENT.\n",
    "    -   `pct_foreign_born_[year]` - The percent of the population in the county born outside of the United States. Derived from ACS table DP02: SELECTED SOCIAL CHARACTERISTICS IN THE UNITED STATES.\n",
    "    -   `pct_it_workers_[year]` - The percent of the workforce in the county employed in information related industries. Derived from ACS table S2405: INDUSTRY BY OCCUPATION FOR THE CIVILIAN EMPLOYED  POPULATION 16 YEARS AND OVER.\n",
    "    -   `median_hh_inc_[year]` - The median household income in  the county. Derived from ACS table S1901: INCOME IN THE PAST 12 MONTHS  (IN 2021 INFLATION-ADJUSTED DOLLARS).\n",
    "    \n",
    "---"
   ]
  },
  {
   "cell_type": "markdown",
   "id": "343242c2-0bcc-43e3-a740-c60e15609970",
   "metadata": {},
   "source": [
    "## 数据读取"
   ]
  },
  {
   "cell_type": "code",
   "execution_count": null,
   "id": "c76284e7-2402-45e1-82c6-79e947454f0d",
   "metadata": {
    "tags": []
   },
   "outputs": [],
   "source": [
    "import seaborn as sns\n",
    "import pandas as pd\n",
    "import numpy as np\n",
    "\n",
    "import matplotlib.pyplot as plt\n",
    "%matplotlib inline\n",
    "plt.style.use('ggplot')\n",
    "\n",
    "sns.set_style('darkgrid')\n",
    "\n",
    "from sklearn.linear_model import LinearRegression\n",
    "import xgboost as xgb"
   ]
  },
  {
   "cell_type": "code",
   "execution_count": null,
   "id": "0d209c88-0ca5-4d7d-9ffa-e0e8ea89ed31",
   "metadata": {
    "tags": []
   },
   "outputs": [],
   "source": [
    "!ls input/ -lh"
   ]
  },
  {
   "cell_type": "code",
   "execution_count": null,
   "id": "a7318e93-db4f-482c-8106-70d3bc29cd92",
   "metadata": {
    "tags": []
   },
   "outputs": [],
   "source": [
    "train_data = pd.read_csv('input/train.csv')\n",
    "test_data = pd.read_csv('input/test.csv')\n",
    "\n",
    "census_starter = pd.read_csv('input/census_starter.csv')\n",
    "sample_submission = pd.read_csv('input/sample_submission.csv')"
   ]
  },
  {
   "cell_type": "code",
   "execution_count": null,
   "id": "3830f22f-810a-4a82-ab7f-7de48da68c33",
   "metadata": {
    "tags": []
   },
   "outputs": [],
   "source": [
    "train_data.head(3)"
   ]
  },
  {
   "cell_type": "code",
   "execution_count": null,
   "id": "2f24e084-0d6e-48e3-9b23-8f51bfdc632b",
   "metadata": {
    "tags": []
   },
   "outputs": [],
   "source": [
    "test_data.head(3)"
   ]
  },
  {
   "cell_type": "code",
   "execution_count": null,
   "id": "b544060e-28b4-45b2-b909-3ba9ea47d585",
   "metadata": {
    "tags": []
   },
   "outputs": [],
   "source": [
    "census_starter.head(3)"
   ]
  },
  {
   "cell_type": "code",
   "execution_count": null,
   "id": "fa19b751-f683-41ee-a549-77e4dd014d47",
   "metadata": {
    "tags": []
   },
   "outputs": [],
   "source": [
    "sample_submission.head(3)"
   ]
  },
  {
   "cell_type": "markdown",
   "id": "5d545da4-7842-4758-bda9-971924c69729",
   "metadata": {},
   "source": [
    "## 数据分析"
   ]
  },
  {
   "cell_type": "code",
   "execution_count": null,
   "id": "bb698483-c244-4852-82f2-563d79663b46",
   "metadata": {
    "tags": []
   },
   "outputs": [],
   "source": [
    "plt.figure(dpi=100, figsize=(6, 10))\n",
    "state_vcounts = train_data['state'].value_counts()\n",
    "state_vcounts.plot(kind='barh')"
   ]
  },
  {
   "cell_type": "code",
   "execution_count": null,
   "id": "78abf3b1-862e-457e-831d-201267882be4",
   "metadata": {
    "tags": []
   },
   "outputs": [],
   "source": [
    "microbusiness_density_mean = train_data.groupby('state')['microbusiness_density'].mean().loc[state_vcounts.index]\n",
    "active_mean = train_data.groupby('state')['active'].mean().loc[state_vcounts.index]"
   ]
  },
  {
   "cell_type": "code",
   "execution_count": null,
   "id": "daab2695-2d1b-4358-874d-a9a75b4c0f27",
   "metadata": {
    "tags": []
   },
   "outputs": [],
   "source": [
    "plt.figure(dpi=100, figsize=(10, 10))\n",
    "\n",
    "plt.subplot(121)\n",
    "plt.plot(microbusiness_density_mean, range(len(microbusiness_density_mean)))\n",
    "_ = plt.yticks(range(len(microbusiness_density_mean)), microbusiness_density_mean.index)\n",
    "\n",
    "plt.subplot(122)\n",
    "plt.plot(active_mean, range(len(active_mean)))\n",
    "_ = plt.yticks(range(len(active_mean)), active_mean.index)\n",
    "plt.tight_layout()"
   ]
  },
  {
   "cell_type": "code",
   "execution_count": null,
   "id": "362ce1ca-4a68-410e-a4f2-8a873f658d23",
   "metadata": {
    "tags": []
   },
   "outputs": [],
   "source": [
    "plt.figure(dpi=100, figsize=(5, 5))\n",
    "sns.scatterplot(x='microbusiness_density', y='active', data=train_data)"
   ]
  },
  {
   "cell_type": "code",
   "execution_count": null,
   "id": "4d41747d-cb9d-40a5-9322-957ed5f27f31",
   "metadata": {
    "tags": []
   },
   "outputs": [],
   "source": [
    "train_data = train_data.set_index('first_day_of_month')\n",
    "test_data = test_data.set_index('first_day_of_month')"
   ]
  },
  {
   "cell_type": "code",
   "execution_count": null,
   "id": "a8006240-776e-49e2-a63a-db7dd2b746b8",
   "metadata": {
    "tags": []
   },
   "outputs": [],
   "source": [
    "plt.figure(dpi=100, figsize=(10, 5))\n",
    "\n",
    "plt.subplot(211)\n",
    "train_data[train_data['cfips'] == 1001]['microbusiness_density'].plot()\n",
    "\n",
    "plt.subplot(212)\n",
    "train_data[train_data['cfips'] == 1001]['active'].plot()\n",
    "\n",
    "plt.tight_layout()"
   ]
  },
  {
   "cell_type": "code",
   "execution_count": null,
   "id": "a3872714-9f17-44a1-b826-af04c2833aa9",
   "metadata": {
    "tags": []
   },
   "outputs": [],
   "source": [
    "from urllib.request import urlopen\n",
    "import json\n",
    "# with urlopen('http://raw.githubusercontent.com/plotly/datasets/master/geojson-counties-fips.json') as response:\n",
    "#     counties = json.load(response)\n",
    "\n",
    "counties = json.load(open('geojson-counties-fips.json'))"
   ]
  },
  {
   "cell_type": "code",
   "execution_count": null,
   "id": "f16b122f-98fb-418b-a1bc-03c6a8880b08",
   "metadata": {
    "tags": []
   },
   "outputs": [],
   "source": [
    "df = train_data.groupby('cfips').last(1).reset_index()\n",
    "df"
   ]
  },
  {
   "cell_type": "code",
   "execution_count": null,
   "id": "8a391a57-e306-443c-8cde-c73dd62c5e86",
   "metadata": {
    "tags": []
   },
   "outputs": [],
   "source": [
    "import plotly.express as px\n",
    "\n",
    "fig = px.choropleth(df, geojson=counties,\n",
    "                    locations='cfips',\n",
    "                    color='microbusiness_density',\n",
    "                    color_continuous_scale=\"Viridis\",\n",
    "                    range_color=(0, 12),\n",
    "                    scope=\"usa\",\n",
    "                    )\n",
    "fig.update_layout(margin={\"r\": 0, \"t\": 0, \"l\": 0, \"b\": 0})\n",
    "fig.show()"
   ]
  },
  {
   "cell_type": "code",
   "execution_count": null,
   "id": "406e2c40-ec15-49e5-ada6-9bc73ae5d7c2",
   "metadata": {
    "tags": []
   },
   "outputs": [],
   "source": [
    "import plotly.express as px\n",
    "\n",
    "fig = px.choropleth(df, geojson=counties,\n",
    "                    locations='cfips',\n",
    "                    color='active',\n",
    "                    color_continuous_scale=\"Viridis\",\n",
    "                    range_color=(0, 12),\n",
    "                    scope=\"usa\",\n",
    "                    )\n",
    "fig.update_layout(margin={\"r\": 0, \"t\": 0, \"l\": 0, \"b\": 0})\n",
    "fig.show()"
   ]
  },
  {
   "cell_type": "markdown",
   "id": "44494168-3259-4265-93bf-28c018c8b043",
   "metadata": {},
   "source": [
    "## 比赛思路\n",
    "\n",
    "### 方案划分"
   ]
  },
  {
   "cell_type": "markdown",
   "id": "24809721-221f-4da1-8298-6ee3f5243473",
   "metadata": {},
   "source": [
    "### 评价指标"
   ]
  },
  {
   "cell_type": "code",
   "execution_count": null,
   "id": "747ed774-fba6-4791-bc52-8f3c19e28194",
   "metadata": {},
   "outputs": [],
   "source": [
    "def SMAPE(y_true, y_pred):\n",
    "    denominator = (y_true + np.abs(y_pred)) / 200.0\n",
    "    diff = np.abs(y_true - y_pred) / denominator\n",
    "    diff[denominator == 0] = 0.0\n",
    "    return np.mean(diff)"
   ]
  },
  {
   "cell_type": "markdown",
   "id": "8bf346ac-3f5d-46fb-a00d-c1a5d18657ba",
   "metadata": {},
   "source": [
    "### 线性回归 (LB 1.0927)"
   ]
  },
  {
   "cell_type": "code",
   "execution_count": null,
   "id": "953a05de-bc7a-42e2-b747-ab4186b24efc",
   "metadata": {
    "tags": []
   },
   "outputs": [],
   "source": [
    "DISPLAY = 8\n",
    "THRESHOLD = 8\n",
    "ACTIVE_THRESHOLD = 25_000\n",
    "\n",
    "IDS = train_data.cfips.unique()\n",
    "x_train = np.arange(39).reshape((-1,1))\n",
    "x_test = np.arange(38,47).reshape((-1,1))\n",
    "\n",
    "preds = np.zeros((len(IDS),8))\n",
    "last_preds = np.zeros((len(IDS),8))\n",
    "lin_trend = 0\n",
    "\n",
    "test_index = test_data.sort_index().index.unique()[:8]\n",
    "\n",
    "ct = 0\n",
    "for i,c in enumerate(IDS):\n",
    "    df = train_data[train_data.cfips==c]\n",
    "    last = df.microbusiness_density.values[-1]\n",
    "    active = df.active.values[-1]\n",
    "    last_preds[i,] = [last]*8\n",
    "    \n",
    "    # FIT LINEAR REGRESSION\n",
    "    model = LinearRegression()\n",
    "    model.fit(x_train,df.microbusiness_density)\n",
    "    p = model.predict(x_train)\n",
    "    \n",
    "    # COMPUTE TRAIN ERROR\n",
    "    err = p - df.microbusiness_density.values\n",
    "    rng = df.microbusiness_density.max() - df.microbusiness_density.min()\n",
    "    \n",
    "    # DETERMIN IF TIME SERIES IS LINEAR OR NOT\n",
    "    s = 0\n",
    "    for k in range(39):\n",
    "        e = np.abs( err[k] )\n",
    "        r = e/(rng/2)\n",
    "        s += r\n",
    "    \n",
    "    # IF S<=8 THEN AVERAGE TRAIN ERROR IS LESS THAN 10% OF RANGE OF TRAIN\n",
    "    # AND WE ASSUME THIS COUNTY HAS A LINEAR TREND\n",
    "    if (s>THRESHOLD)|(active<ACTIVE_THRESHOLD): \n",
    "        preds[i,] = [last]*8\n",
    "        continue\n",
    "        \n",
    "    # INFER TEST DATA WITH LINEAR REGRESSION\n",
    "    p2 = model.predict(x_test)\n",
    "    shift =  last - p2[0]\n",
    "    preds[i,] = p2[1:]+shift\n",
    "    \n",
    "    # COUNT STUFF\n",
    "    ct += 1\n",
    "    lin_trend += 1\n",
    "    if ct>=DISPLAY+1: continue\n",
    "    \n",
    "    # PLOT STUFF\n",
    "    plt.figure(figsize=(20,5))\n",
    "    plt.plot(df.index,df.microbusiness_density,'-o',label='train data')\n",
    "    plt.plot(df.index,p,'--',label='linear regression')\n",
    "    plt.plot(test_index,preds[i,],'-o',label='test pred')\n",
    "    plt.xticks(rotation=45)\n",
    "\n",
    "    pre = ''; post=''\n",
    "    if s>THRESHOLD: \n",
    "        pre='NO, we WILL NOT USE linear regression for\\n'\n",
    "        post=' (We will predict last train value)'\n",
    "    else: \n",
    "        pre='YES, we WILL USE linear regression for\\n'\n",
    "    plt.title(f'{pre}CFIPS {c}{post}',size=18)\n",
    "    \n",
    "    plt.title(f'{pre}CFIPS {c}',size=18)\n",
    "    plt.xlabel('Date',size=16)\n",
    "    plt.ylabel('Microbusiness Density',size=16)\n",
    "    plt.legend()\n",
    "    plt.show()\n",
    "    \n",
    "print(f'There are {lin_trend} counties with both a linear trend and large population.')"
   ]
  },
  {
   "cell_type": "code",
   "execution_count": null,
   "id": "80397503-a5f2-457b-b2c0-701506d420a8",
   "metadata": {
    "tags": []
   },
   "outputs": [],
   "source": [
    "test_data = pd.read_csv('input/test.csv')\n",
    "test_data[\"first_day_of_month\"] = pd.to_datetime(test_data[\"first_day_of_month\"])\n",
    "test_data = test_data.sort_values(['cfips','first_day_of_month']).reset_index(drop=True)\n",
    "test_data['microbusiness_density'] = preds.reshape((-1))\n",
    "test_data[['row_id','microbusiness_density']].to_csv('submission.csv',index=False)"
   ]
  },
  {
   "cell_type": "code",
   "execution_count": null,
   "id": "37e70f4e-e604-4cd2-ac7c-8dfe6a02d99e",
   "metadata": {
    "tags": []
   },
   "outputs": [],
   "source": [
    "xgb[['row_id','microbusiness_density']].to_csv('submission2.csv',index=False)"
   ]
  },
  {
   "cell_type": "code",
   "execution_count": null,
   "id": "37b5d746-e8a5-464e-99ea-9122f0e46059",
   "metadata": {
    "tags": []
   },
   "outputs": [],
   "source": [
    "df = test_data.groupby('cfips')['microbusiness_density'].std()\n",
    "for fips in df[df ==0].index:\n",
    "    xgb[test_data['cfips'] == fips]['microbusiness_density'] = test_data[test_data['cfips'] == fips]['microbusiness_density'].values"
   ]
  },
  {
   "cell_type": "code",
   "execution_count": null,
   "id": "c3d192db-19a4-441b-a8c6-63b79846e553",
   "metadata": {
    "tags": []
   },
   "outputs": [],
   "source": [
    "xgb = pd.read_csv('test.csv')\n",
    "xgb['cfips'] = xgb['row_id'].apply(lambda x: x.split('_')[0])"
   ]
  },
  {
   "cell_type": "code",
   "execution_count": null,
   "id": "c6aa7c42-ab7c-43c6-9c7d-45bd999b90d3",
   "metadata": {
    "tags": []
   },
   "outputs": [],
   "source": []
  },
  {
   "cell_type": "markdown",
   "id": "6f5339bf-a1c5-4e41-a43b-6f61fddaa9a0",
   "metadata": {},
   "source": [
    "### XGBoost (LB 1.0866)"
   ]
  },
  {
   "cell_type": "code",
   "execution_count": null,
   "id": "30c27f50-5d1c-4996-a9ab-b6289b2a4408",
   "metadata": {},
   "outputs": [],
   "source": []
  },
  {
   "cell_type": "markdown",
   "id": "18f1a06b-d1c7-4cef-b36e-25a6c832d334",
   "metadata": {},
   "source": [
    "## 常见问题\n",
    "\n",
    "> FIPS是什么？\n",
    "\n",
    "    FIPS 代码是唯一标识地理区域的数字。 FIPS 代码中的位数因地理级别而异。州级FIPS代码有两位，县级FIPS代码有五位，其中前两位为县所属州的FIPS代码。\n",
    "\n",
    "> 如何查找外部数据集？\n",
    "\n",
    "> "
   ]
  },
  {
   "cell_type": "code",
   "execution_count": null,
   "id": "dcf889a1-3a2a-4075-9faf-749b7a509bb2",
   "metadata": {},
   "outputs": [],
   "source": []
  }
 ],
 "metadata": {
  "kernelspec": {
   "display_name": "Python 3 (ipykernel)",
   "language": "python",
   "name": "python3.10"
  },
  "language_info": {
   "codemirror_mode": {
    "name": "ipython",
    "version": 3
   },
   "file_extension": ".py",
   "mimetype": "text/x-python",
   "name": "python",
   "nbconvert_exporter": "python",
   "pygments_lexer": "ipython3",
   "version": "3.9.10"
  },
  "toc-autonumbering": false,
  "widgets": {
   "application/vnd.jupyter.widget-state+json": {
    "state": {},
    "version_major": 2,
    "version_minor": 0
   }
  }
 },
 "nbformat": 4,
 "nbformat_minor": 5
}
